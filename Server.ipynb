{
 "cells": [
  {
   "cell_type": "code",
   "execution_count": 6,
   "id": "0396d516",
   "metadata": {},
   "outputs": [
    {
     "ename": "ModuleNotFoundError",
     "evalue": "No module named 'sklearn'",
     "output_type": "error",
     "traceback": [
      "\u001b[0;31m---------------------------------------------------------------------------\u001b[0m",
      "\u001b[0;31mModuleNotFoundError\u001b[0m                       Traceback (most recent call last)",
      "Cell \u001b[0;32mIn[6], line 10\u001b[0m\n\u001b[1;32m      7\u001b[0m cors \u001b[39m=\u001b[39m CORS(app, resources\u001b[39m=\u001b[39m{\u001b[39mr\u001b[39m\u001b[39m\"\u001b[39m\u001b[39m/predict-rickets\u001b[39m\u001b[39m\"\u001b[39m: {\u001b[39m\"\u001b[39m\u001b[39morigins\u001b[39m\u001b[39m\"\u001b[39m: \u001b[39m\"\u001b[39m\u001b[39m*\u001b[39m\u001b[39m\"\u001b[39m}})\n\u001b[1;32m      8\u001b[0m app\u001b[39m.\u001b[39mconfig[\u001b[39m'\u001b[39m\u001b[39mCORS_HEADERS\u001b[39m\u001b[39m'\u001b[39m] \u001b[39m=\u001b[39m \u001b[39m'\u001b[39m\u001b[39mContent-Type\u001b[39m\u001b[39m'\u001b[39m\n\u001b[0;32m---> 10\u001b[0m model \u001b[39m=\u001b[39m pickle\u001b[39m.\u001b[39;49mload(\u001b[39mopen\u001b[39;49m(\u001b[39m'\u001b[39;49m\u001b[39mmodel.pkl\u001b[39;49m\u001b[39m'\u001b[39;49m, \u001b[39m'\u001b[39;49m\u001b[39mrb\u001b[39;49m\u001b[39m'\u001b[39;49m))\n\u001b[1;32m     13\u001b[0m \u001b[39m@app\u001b[39m\u001b[39m.\u001b[39mroute(\u001b[39m'\u001b[39m\u001b[39m/predict-rickets\u001b[39m\u001b[39m'\u001b[39m, methods\u001b[39m=\u001b[39m[\u001b[39m'\u001b[39m\u001b[39mPOST\u001b[39m\u001b[39m'\u001b[39m])\n\u001b[1;32m     14\u001b[0m \u001b[39mdef\u001b[39;00m \u001b[39mpredict\u001b[39m():\n\u001b[1;32m     15\u001b[0m     data \u001b[39m=\u001b[39m request\u001b[39m.\u001b[39mget_json(force\u001b[39m=\u001b[39m\u001b[39mTrue\u001b[39;00m)\n",
      "\u001b[0;31mModuleNotFoundError\u001b[0m: No module named 'sklearn'"
     ]
    }
   ],
   "source": [
    "import numpy as np\n",
    "import pickle\n",
    "from flask import Flask, request, jsonify\n",
    "from flask_cors import CORS\n",
    "\n",
    "app = Flask(__name__)\n",
    "cors = CORS(app, resources={r\"/predict-rickets\": {\"origins\": \"*\"}})\n",
    "app.config['CORS_HEADERS'] = 'Content-Type'\n",
    "\n",
    "model = pickle.load(open('model.pkl', 'rb'))\n",
    "\n",
    "\n",
    "@app.route('/predict-rickets', methods=['POST'])\n",
    "def predict():\n",
    "    data = request.get_json(force=True)\n",
    "    print(data)\n",
    "    input_data = [data[\"infant's gastrational age\"], data['bow legs'], data['inadequate sunlight exposure'],\n",
    "                  data['bone fractures'], data['serum calcium level8.6-10.3']]\n",
    "    _input = [np.array(input_data)]\n",
    "    probability = model.predict_proba(_input)\n",
    "    output = {\"yes\": probability[0][1], \"no\": probability[0][0]}\n",
    "    response = jsonify(probability[0][1])\n",
    "    response.headers.add('Access-Control-Allow-Origin', '*')\n",
    "    return response, 200  # request completed successfully\n",
    "\n",
    "\n",
    "if __name__ == \"__main__\":\n",
    "    app.run(port=5000)\n"
   ]
  }
 ],
 "metadata": {
  "kernelspec": {
   "display_name": "Python 3 (ipykernel)",
   "language": "python",
   "name": "python3"
  },
  "language_info": {
   "codemirror_mode": {
    "name": "ipython",
    "version": 3
   },
   "file_extension": ".py",
   "mimetype": "text/x-python",
   "name": "python",
   "nbconvert_exporter": "python",
   "pygments_lexer": "ipython3",
   "version": "3.10.10"
  }
 },
 "nbformat": 4,
 "nbformat_minor": 5
}
