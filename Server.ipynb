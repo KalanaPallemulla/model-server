{
 "cells": [
  {
   "cell_type": "code",
   "execution_count": null,
   "id": "0396d516",
   "metadata": {},
   "outputs": [
    {
     "name": "stdout",
     "output_type": "stream",
     "text": [
      " * Serving Flask app \"__main__\" (lazy loading)\n",
      " * Environment: production\n",
      "\u001b[31m   WARNING: This is a development server. Do not use it in a production deployment.\u001b[0m\n",
      "\u001b[2m   Use a production WSGI server instead.\u001b[0m\n",
      " * Debug mode: off\n"
     ]
    },
    {
     "name": "stderr",
     "output_type": "stream",
     "text": [
      "/Users/macbookair/opt/anaconda3/lib/python3.9/site-packages/sklearn/base.py:329: UserWarning: Trying to unpickle estimator LogisticRegression from version 1.0 when using version 1.0.2. This might lead to breaking code or invalid results. Use at your own risk. For more info please refer to:\n",
      "https://scikit-learn.org/stable/modules/model_persistence.html#security-maintainability-limitations\n",
      "  warnings.warn(\n",
      " * Running on http://127.0.0.1:5000/ (Press CTRL+C to quit)\n",
      "/Users/macbookair/opt/anaconda3/lib/python3.9/site-packages/sklearn/base.py:450: UserWarning: X does not have valid feature names, but LogisticRegression was fitted with feature names\n",
      "  warnings.warn(\n",
      "127.0.0.1 - - [25/Apr/2023 22:53:54] \"POST /predict-rickets HTTP/1.1\" 200 -\n"
     ]
    },
    {
     "name": "stdout",
     "output_type": "stream",
     "text": [
      "{\"infant's gastrational age\": 1, 'bow legs': 1, 'inadequate sunlight exposure': 0, 'bone fractures': 1, 'serum calcium level8.6-10.3': 6.7}\n"
     ]
    },
    {
     "name": "stderr",
     "output_type": "stream",
     "text": [
      "/Users/macbookair/opt/anaconda3/lib/python3.9/site-packages/sklearn/base.py:450: UserWarning: X does not have valid feature names, but LogisticRegression was fitted with feature names\n",
      "  warnings.warn(\n",
      "127.0.0.1 - - [25/Apr/2023 22:54:12] \"POST /predict-rickets HTTP/1.1\" 200 -\n"
     ]
    },
    {
     "name": "stdout",
     "output_type": "stream",
     "text": [
      "{\"infant's gastrational age\": 1, 'bow legs': 0, 'inadequate sunlight exposure': 1, 'bone fractures': 0, 'serum calcium level8.6-10.3': 10}\n"
     ]
    },
    {
     "name": "stderr",
     "output_type": "stream",
     "text": [
      "/Users/macbookair/opt/anaconda3/lib/python3.9/site-packages/sklearn/base.py:450: UserWarning: X does not have valid feature names, but LogisticRegression was fitted with feature names\n",
      "  warnings.warn(\n",
      "127.0.0.1 - - [25/Apr/2023 22:54:19] \"POST /predict-rickets HTTP/1.1\" 200 -\n"
     ]
    },
    {
     "name": "stdout",
     "output_type": "stream",
     "text": [
      "{\"infant's gastrational age\": 1, 'bow legs': 0, 'inadequate sunlight exposure': 1, 'bone fractures': 0, 'serum calcium level8.6-10.3': 10.3}\n"
     ]
    },
    {
     "name": "stderr",
     "output_type": "stream",
     "text": [
      "/Users/macbookair/opt/anaconda3/lib/python3.9/site-packages/sklearn/base.py:450: UserWarning: X does not have valid feature names, but LogisticRegression was fitted with feature names\n",
      "  warnings.warn(\n",
      "127.0.0.1 - - [25/Apr/2023 22:54:25] \"POST /predict-rickets HTTP/1.1\" 200 -\n"
     ]
    },
    {
     "name": "stdout",
     "output_type": "stream",
     "text": [
      "{\"infant's gastrational age\": 1, 'bow legs': 0, 'inadequate sunlight exposure': 1, 'bone fractures': 1, 'serum calcium level8.6-10.3': 10.3}\n"
     ]
    },
    {
     "name": "stderr",
     "output_type": "stream",
     "text": [
      "/Users/macbookair/opt/anaconda3/lib/python3.9/site-packages/sklearn/base.py:450: UserWarning: X does not have valid feature names, but LogisticRegression was fitted with feature names\n",
      "  warnings.warn(\n",
      "127.0.0.1 - - [25/Apr/2023 22:54:31] \"POST /predict-rickets HTTP/1.1\" 200 -\n"
     ]
    },
    {
     "name": "stdout",
     "output_type": "stream",
     "text": [
      "{\"infant's gastrational age\": 1, 'bow legs': 1, 'inadequate sunlight exposure': 1, 'bone fractures': 1, 'serum calcium level8.6-10.3': 10.3}\n"
     ]
    },
    {
     "name": "stderr",
     "output_type": "stream",
     "text": [
      "/Users/macbookair/opt/anaconda3/lib/python3.9/site-packages/sklearn/base.py:450: UserWarning: X does not have valid feature names, but LogisticRegression was fitted with feature names\n",
      "  warnings.warn(\n",
      "127.0.0.1 - - [25/Apr/2023 22:54:40] \"POST /predict-rickets HTTP/1.1\" 200 -\n"
     ]
    },
    {
     "name": "stdout",
     "output_type": "stream",
     "text": [
      "{\"infant's gastrational age\": 1, 'bow legs': 1, 'inadequate sunlight exposure': 1, 'bone fractures': 1, 'serum calcium level8.6-10.3': 8.3}\n"
     ]
    },
    {
     "name": "stderr",
     "output_type": "stream",
     "text": [
      "/Users/macbookair/opt/anaconda3/lib/python3.9/site-packages/sklearn/base.py:450: UserWarning: X does not have valid feature names, but LogisticRegression was fitted with feature names\n",
      "  warnings.warn(\n",
      "127.0.0.1 - - [25/Apr/2023 22:54:45] \"POST /predict-rickets HTTP/1.1\" 200 -\n"
     ]
    },
    {
     "name": "stdout",
     "output_type": "stream",
     "text": [
      "{\"infant's gastrational age\": 1, 'bow legs': 1, 'inadequate sunlight exposure': 1, 'bone fractures': 1, 'serum calcium level8.6-10.3': 1.3}\n"
     ]
    },
    {
     "name": "stderr",
     "output_type": "stream",
     "text": [
      "/Users/macbookair/opt/anaconda3/lib/python3.9/site-packages/sklearn/base.py:450: UserWarning: X does not have valid feature names, but LogisticRegression was fitted with feature names\n",
      "  warnings.warn(\n",
      "127.0.0.1 - - [25/Apr/2023 22:54:54] \"POST /predict-rickets HTTP/1.1\" 200 -\n"
     ]
    },
    {
     "name": "stdout",
     "output_type": "stream",
     "text": [
      "{\"infant's gastrational age\": 1, 'bow legs': 1, 'inadequate sunlight exposure': 1, 'bone fractures': 1, 'serum calcium level8.6-10.3': 100.3}\n"
     ]
    },
    {
     "name": "stderr",
     "output_type": "stream",
     "text": [
      "/Users/macbookair/opt/anaconda3/lib/python3.9/site-packages/sklearn/base.py:450: UserWarning: X does not have valid feature names, but LogisticRegression was fitted with feature names\n",
      "  warnings.warn(\n",
      "127.0.0.1 - - [25/Apr/2023 22:55:12] \"POST /predict-rickets HTTP/1.1\" 200 -\n"
     ]
    },
    {
     "name": "stdout",
     "output_type": "stream",
     "text": [
      "{\"infant's gastrational age\": 1, 'bow legs': 1, 'inadequate sunlight exposure': 1, 'bone fractures': 1, 'serum calcium level8.6-10.3': 0.3}\n"
     ]
    },
    {
     "name": "stderr",
     "output_type": "stream",
     "text": [
      "/Users/macbookair/opt/anaconda3/lib/python3.9/site-packages/sklearn/base.py:450: UserWarning: X does not have valid feature names, but LogisticRegression was fitted with feature names\n",
      "  warnings.warn(\n",
      "127.0.0.1 - - [25/Apr/2023 22:55:14] \"POST /predict-rickets HTTP/1.1\" 200 -\n"
     ]
    },
    {
     "name": "stdout",
     "output_type": "stream",
     "text": [
      "{\"infant's gastrational age\": 1, 'bow legs': 1, 'inadequate sunlight exposure': 1, 'bone fractures': 1, 'serum calcium level8.6-10.3': 0}\n"
     ]
    },
    {
     "name": "stderr",
     "output_type": "stream",
     "text": [
      "/Users/macbookair/opt/anaconda3/lib/python3.9/site-packages/sklearn/base.py:450: UserWarning: X does not have valid feature names, but LogisticRegression was fitted with feature names\n",
      "  warnings.warn(\n",
      "127.0.0.1 - - [25/Apr/2023 22:55:21] \"POST /predict-rickets HTTP/1.1\" 200 -\n"
     ]
    },
    {
     "name": "stdout",
     "output_type": "stream",
     "text": [
      "{\"infant's gastrational age\": 1, 'bow legs': 1, 'inadequate sunlight exposure': 0, 'bone fractures': 1, 'serum calcium level8.6-10.3': 0}\n"
     ]
    }
   ],
   "source": [
    "import numpy as np\n",
    "import pickle\n",
    "from flask import Flask, request, jsonify\n",
    "from flask_cors import CORS\n",
    "\n",
    "app = Flask(__name__)\n",
    "cors = CORS(app, resources={r\"/predict-rickets\": {\"origins\": \"*\"}})\n",
    "app.config['CORS_HEADERS'] = 'Content-Type'\n",
    "\n",
    "model = pickle.load(open('model.pkl', 'rb'))\n",
    "\n",
    "\n",
    "@app.route('/predict-rickets', methods=['POST'])\n",
    "def predict():\n",
    "    data = request.get_json(force=True)\n",
    "    print(data)\n",
    "    input_data = [data[\"infant's gastrational age\"], data['bow legs'], data['inadequate sunlight exposure'],\n",
    "                  data['bone fractures'], data['serum calcium level8.6-10.3']]\n",
    "    _input = [np.array(input_data)]\n",
    "    probability = model.predict_proba(_input)\n",
    "    output = {\"yes\": probability[0][1], \"no\": probability[0][0]}\n",
    "    response = jsonify(probability[0][1])\n",
    "    response.headers.add('Access-Control-Allow-Origin', '*')\n",
    "    return response, 200  # request completed successfully\n",
    "\n",
    "\n",
    "if __name__ == \"__main__\":\n",
    "    app.run()\n"
   ]
  },
  {
   "cell_type": "code",
   "execution_count": null,
   "id": "c958bba4",
   "metadata": {},
   "outputs": [],
   "source": []
  }
 ],
 "metadata": {
  "kernelspec": {
   "display_name": "Python 3 (ipykernel)",
   "language": "python",
   "name": "python3"
  },
  "language_info": {
   "codemirror_mode": {
    "name": "ipython",
    "version": 3
   },
   "file_extension": ".py",
   "mimetype": "text/x-python",
   "name": "python",
   "nbconvert_exporter": "python",
   "pygments_lexer": "ipython3",
   "version": "3.9.13"
  }
 },
 "nbformat": 4,
 "nbformat_minor": 5
}
